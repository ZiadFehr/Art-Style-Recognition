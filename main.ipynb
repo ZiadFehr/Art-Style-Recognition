{
 "cells": [
  {
   "cell_type": "code",
   "execution_count": null,
   "id": "c5fa8afe-90df-49c1-9d7e-ac009bf523cc",
   "metadata": {},
   "outputs": [],
   "source": [
    "''' Datsest can be found here: https://www.kaggle.com/datasets/thedownhill/art-images-drawings-painting-sculpture-engraving/data '''"
   ]
  },
  {
   "cell_type": "code",
   "execution_count": 12,
   "id": "1a75e68b-d0fd-41cf-af53-97beab34827b",
   "metadata": {},
   "outputs": [],
   "source": [
    "import matplotlib.pyplot as plt\n",
    "import numpy as np\n",
    "import os\n",
    "import cv2\n",
    "import sklearn as sk\n",
    "import pandas as pd\n",
    "import torch\n",
    "import random \n",
    "from sklearn.cluster import MiniBatchKMeans\n",
    "from sklearn.metrics import silhouette_score\n",
    "import tensorflow as tf\n",
    "from tensorflow.keras import layers, models\n",
    "from tensorflow.keras.layers import Dense, Dropout, Activation, Flatten, Conv2D, MaxPooling2D, Input\n",
    "from tensorflow.keras.models import Model\n",
    "from keras.models import load_model\n",
    "from keras import backend as K\n",
    "import joblib\n",
    "from keras.utils import to_categorical\n",
    "from tensorflow.keras.optimizers import Adam"
   ]
  },
  {
   "cell_type": "code",
   "execution_count": 2,
   "id": "08231575-a478-4286-ad2a-e9ef9f6bb057",
   "metadata": {},
   "outputs": [
    {
     "name": "stdout",
     "output_type": "stream",
     "text": [
      "1\n",
      "NVIDIA GeForce RTX 2060\n"
     ]
    }
   ],
   "source": [
    "print(torch.cuda.device_count())\n",
    "print(torch.cuda.get_device_name(0))\n",
    "torch.cuda.set_device(0)"
   ]
  },
  {
   "cell_type": "code",
   "execution_count": 52,
   "id": "eb7ea145-6342-4099-9643-9bd64626e899",
   "metadata": {},
   "outputs": [],
   "source": [
    "# Initialise directories and labels\n",
    "patht = './dataset/training_set'\n",
    "pathv = './dataset/validation_set'\n",
    "categories = ['drawings', 'engraving', 'iconography', 'painting', 'sculpture']\n",
    "img_size = 400"
   ]
  },
  {
   "cell_type": "code",
   "execution_count": 53,
   "id": "05372ea6-8498-4b6f-ab65-28a357f59fe2",
   "metadata": {},
   "outputs": [],
   "source": [
    "def load_and_resize_image(image_path, img_size):\n",
    "    try:\n",
    "        img_array = cv2.imread(image_path, cv2.IMREAD_GRAYSCALE)\n",
    "        if img_array is None:\n",
    "            raise ValueError(f\"Image not found or cannot be read: {image_path}\")\n",
    "        return cv2.resize(img_array, (img_size, img_size))\n",
    "    except Exception as e:\n",
    "        print(f\"Error loading image {image_path}: {e}\")\n",
    "        return None"
   ]
  },
  {
   "cell_type": "code",
   "execution_count": 54,
   "id": "f5323e7c-7f7e-401f-a814-8790655a4c9e",
   "metadata": {
    "scrolled": true
   },
   "outputs": [
    {
     "name": "stdout",
     "output_type": "stream",
     "text": [
      "Error loading image ./dataset/training_set\\engraving\\249.jpg: Image not found or cannot be read: ./dataset/training_set\\engraving\\249.jpg\n",
      "Error loading image ./dataset/training_set\\engraving\\304.jpg: Image not found or cannot be read: ./dataset/training_set\\engraving\\304.jpg\n",
      "Error loading image ./dataset/training_set\\engraving\\356.jpg: Image not found or cannot be read: ./dataset/training_set\\engraving\\356.jpg\n",
      "Error loading image ./dataset/training_set\\iconography\\331.jpg: Image not found or cannot be read: ./dataset/training_set\\iconography\\331.jpg\n",
      "Error loading image ./dataset/training_set\\iconography\\69.jpg: Image not found or cannot be read: ./dataset/training_set\\iconography\\69.jpg\n",
      "Error loading image ./dataset/training_set\\painting\\0000.jpg: Image not found or cannot be read: ./dataset/training_set\\painting\\0000.jpg\n",
      "Error loading image ./dataset/training_set\\painting\\0025.jpg: Image not found or cannot be read: ./dataset/training_set\\painting\\0025.jpg\n",
      "Error loading image ./dataset/training_set\\painting\\0050.jpg: Image not found or cannot be read: ./dataset/training_set\\painting\\0050.jpg\n",
      "Error loading image ./dataset/training_set\\painting\\0075.jpg: Image not found or cannot be read: ./dataset/training_set\\painting\\0075.jpg\n",
      "Error loading image ./dataset/training_set\\painting\\0125.jpg: Image not found or cannot be read: ./dataset/training_set\\painting\\0125.jpg\n",
      "Error loading image ./dataset/training_set\\painting\\0150.jpg: Image not found or cannot be read: ./dataset/training_set\\painting\\0150.jpg\n",
      "Error loading image ./dataset/training_set\\painting\\0175.jpg: Image not found or cannot be read: ./dataset/training_set\\painting\\0175.jpg\n",
      "Error loading image ./dataset/training_set\\painting\\0200.jpg: Image not found or cannot be read: ./dataset/training_set\\painting\\0200.jpg\n",
      "Error loading image ./dataset/training_set\\painting\\0225.jpg: Image not found or cannot be read: ./dataset/training_set\\painting\\0225.jpg\n",
      "Error loading image ./dataset/training_set\\painting\\0250.jpg: Image not found or cannot be read: ./dataset/training_set\\painting\\0250.jpg\n",
      "Error loading image ./dataset/training_set\\painting\\0275.jpg: Image not found or cannot be read: ./dataset/training_set\\painting\\0275.jpg\n",
      "Error loading image ./dataset/training_set\\painting\\0325.jpg: Image not found or cannot be read: ./dataset/training_set\\painting\\0325.jpg\n",
      "Error loading image ./dataset/training_set\\painting\\0350.jpg: Image not found or cannot be read: ./dataset/training_set\\painting\\0350.jpg\n",
      "Error loading image ./dataset/training_set\\painting\\0375.jpg: Image not found or cannot be read: ./dataset/training_set\\painting\\0375.jpg\n",
      "Error loading image ./dataset/training_set\\painting\\0400.jpg: Image not found or cannot be read: ./dataset/training_set\\painting\\0400.jpg\n",
      "Error loading image ./dataset/training_set\\painting\\0425.jpg: Image not found or cannot be read: ./dataset/training_set\\painting\\0425.jpg\n",
      "Error loading image ./dataset/training_set\\painting\\0450.jpg: Image not found or cannot be read: ./dataset/training_set\\painting\\0450.jpg\n",
      "Error loading image ./dataset/training_set\\painting\\0475.jpg: Image not found or cannot be read: ./dataset/training_set\\painting\\0475.jpg\n",
      "Error loading image ./dataset/training_set\\painting\\0500.jpg: Image not found or cannot be read: ./dataset/training_set\\painting\\0500.jpg\n",
      "Error loading image ./dataset/training_set\\painting\\0525.jpg: Image not found or cannot be read: ./dataset/training_set\\painting\\0525.jpg\n",
      "Error loading image ./dataset/training_set\\painting\\0550.jpg: Image not found or cannot be read: ./dataset/training_set\\painting\\0550.jpg\n",
      "Error loading image ./dataset/training_set\\painting\\0575.jpg: Image not found or cannot be read: ./dataset/training_set\\painting\\0575.jpg\n",
      "Error loading image ./dataset/training_set\\painting\\0600.jpg: Image not found or cannot be read: ./dataset/training_set\\painting\\0600.jpg\n",
      "Error loading image ./dataset/training_set\\painting\\0625.jpg: Image not found or cannot be read: ./dataset/training_set\\painting\\0625.jpg\n",
      "Error loading image ./dataset/training_set\\painting\\0650.jpg: Image not found or cannot be read: ./dataset/training_set\\painting\\0650.jpg\n",
      "Error loading image ./dataset/training_set\\painting\\0675.jpg: Image not found or cannot be read: ./dataset/training_set\\painting\\0675.jpg\n",
      "Error loading image ./dataset/training_set\\painting\\0700.jpg: Image not found or cannot be read: ./dataset/training_set\\painting\\0700.jpg\n",
      "Error loading image ./dataset/training_set\\painting\\0725.jpg: Image not found or cannot be read: ./dataset/training_set\\painting\\0725.jpg\n",
      "Error loading image ./dataset/training_set\\painting\\0750.jpg: Image not found or cannot be read: ./dataset/training_set\\painting\\0750.jpg\n",
      "Error loading image ./dataset/training_set\\painting\\0775.jpg: Image not found or cannot be read: ./dataset/training_set\\painting\\0775.jpg\n",
      "Error loading image ./dataset/training_set\\painting\\0800.jpg: Image not found or cannot be read: ./dataset/training_set\\painting\\0800.jpg\n",
      "Error loading image ./dataset/training_set\\painting\\0825.jpg: Image not found or cannot be read: ./dataset/training_set\\painting\\0825.jpg\n",
      "Error loading image ./dataset/training_set\\painting\\0850.jpg: Image not found or cannot be read: ./dataset/training_set\\painting\\0850.jpg\n",
      "Error loading image ./dataset/training_set\\painting\\0875.jpg: Image not found or cannot be read: ./dataset/training_set\\painting\\0875.jpg\n",
      "Error loading image ./dataset/training_set\\painting\\0900.jpg: Image not found or cannot be read: ./dataset/training_set\\painting\\0900.jpg\n",
      "Error loading image ./dataset/training_set\\painting\\0925.jpg: Image not found or cannot be read: ./dataset/training_set\\painting\\0925.jpg\n",
      "Error loading image ./dataset/training_set\\painting\\0950.jpg: Image not found or cannot be read: ./dataset/training_set\\painting\\0950.jpg\n",
      "Error loading image ./dataset/training_set\\painting\\0975.jpg: Image not found or cannot be read: ./dataset/training_set\\painting\\0975.jpg\n",
      "Error loading image ./dataset/training_set\\painting\\1000.jpg: Image not found or cannot be read: ./dataset/training_set\\painting\\1000.jpg\n",
      "Error loading image ./dataset/training_set\\painting\\1025.jpg: Image not found or cannot be read: ./dataset/training_set\\painting\\1025.jpg\n",
      "Error loading image ./dataset/training_set\\painting\\1050.jpg: Image not found or cannot be read: ./dataset/training_set\\painting\\1050.jpg\n",
      "Error loading image ./dataset/training_set\\painting\\1075.jpg: Image not found or cannot be read: ./dataset/training_set\\painting\\1075.jpg\n",
      "Error loading image ./dataset/training_set\\painting\\1100.jpg: Image not found or cannot be read: ./dataset/training_set\\painting\\1100.jpg\n",
      "Error loading image ./dataset/training_set\\painting\\1125.jpg: Image not found or cannot be read: ./dataset/training_set\\painting\\1125.jpg\n",
      "Error loading image ./dataset/training_set\\painting\\1175.jpg: Image not found or cannot be read: ./dataset/training_set\\painting\\1175.jpg\n",
      "Error loading image ./dataset/training_set\\painting\\1200.jpg: Image not found or cannot be read: ./dataset/training_set\\painting\\1200.jpg\n",
      "Error loading image ./dataset/training_set\\painting\\1225.jpg: Image not found or cannot be read: ./dataset/training_set\\painting\\1225.jpg\n",
      "Error loading image ./dataset/training_set\\painting\\1275.jpg: Image not found or cannot be read: ./dataset/training_set\\painting\\1275.jpg\n",
      "Error loading image ./dataset/training_set\\painting\\1300.jpg: Image not found or cannot be read: ./dataset/training_set\\painting\\1300.jpg\n",
      "Error loading image ./dataset/training_set\\painting\\1325.jpg: Image not found or cannot be read: ./dataset/training_set\\painting\\1325.jpg\n",
      "Error loading image ./dataset/training_set\\painting\\1350.jpg: Image not found or cannot be read: ./dataset/training_set\\painting\\1350.jpg\n",
      "Error loading image ./dataset/training_set\\painting\\1375.jpg: Image not found or cannot be read: ./dataset/training_set\\painting\\1375.jpg\n",
      "Error loading image ./dataset/training_set\\painting\\1400.jpg: Image not found or cannot be read: ./dataset/training_set\\painting\\1400.jpg\n",
      "Error loading image ./dataset/training_set\\painting\\1425.jpg: Image not found or cannot be read: ./dataset/training_set\\painting\\1425.jpg\n",
      "Error loading image ./dataset/training_set\\painting\\1450.jpg: Image not found or cannot be read: ./dataset/training_set\\painting\\1450.jpg\n",
      "Error loading image ./dataset/training_set\\painting\\1475.jpg: Image not found or cannot be read: ./dataset/training_set\\painting\\1475.jpg\n",
      "Error loading image ./dataset/training_set\\painting\\1500.jpg: Image not found or cannot be read: ./dataset/training_set\\painting\\1500.jpg\n",
      "Error loading image ./dataset/training_set\\painting\\1525.jpg: Image not found or cannot be read: ./dataset/training_set\\painting\\1525.jpg\n",
      "Error loading image ./dataset/training_set\\painting\\1575.jpg: Image not found or cannot be read: ./dataset/training_set\\painting\\1575.jpg\n",
      "Error loading image ./dataset/training_set\\painting\\1625.jpg: Image not found or cannot be read: ./dataset/training_set\\painting\\1625.jpg\n",
      "Error loading image ./dataset/training_set\\painting\\1650.jpg: Image not found or cannot be read: ./dataset/training_set\\painting\\1650.jpg\n",
      "Error loading image ./dataset/training_set\\painting\\1675.jpg: Image not found or cannot be read: ./dataset/training_set\\painting\\1675.jpg\n",
      "Error loading image ./dataset/training_set\\painting\\1700.jpg: Image not found or cannot be read: ./dataset/training_set\\painting\\1700.jpg\n",
      "Error loading image ./dataset/training_set\\painting\\1725.jpg: Image not found or cannot be read: ./dataset/training_set\\painting\\1725.jpg\n",
      "Error loading image ./dataset/training_set\\painting\\1750.jpg: Image not found or cannot be read: ./dataset/training_set\\painting\\1750.jpg\n",
      "Error loading image ./dataset/training_set\\painting\\1775.jpg: Image not found or cannot be read: ./dataset/training_set\\painting\\1775.jpg\n",
      "Error loading image ./dataset/training_set\\painting\\1800.jpg: Image not found or cannot be read: ./dataset/training_set\\painting\\1800.jpg\n",
      "Error loading image ./dataset/training_set\\painting\\1825.jpg: Image not found or cannot be read: ./dataset/training_set\\painting\\1825.jpg\n",
      "Error loading image ./dataset/training_set\\painting\\1850.jpg: Image not found or cannot be read: ./dataset/training_set\\painting\\1850.jpg\n",
      "Error loading image ./dataset/training_set\\painting\\1875.jpg: Image not found or cannot be read: ./dataset/training_set\\painting\\1875.jpg\n",
      "Error loading image ./dataset/training_set\\painting\\1900.jpg: Image not found or cannot be read: ./dataset/training_set\\painting\\1900.jpg\n",
      "Error loading image ./dataset/training_set\\painting\\1925.jpg: Image not found or cannot be read: ./dataset/training_set\\painting\\1925.jpg\n",
      "Error loading image ./dataset/training_set\\painting\\1950.jpg: Image not found or cannot be read: ./dataset/training_set\\painting\\1950.jpg\n",
      "Error loading image ./dataset/training_set\\painting\\1975.jpg: Image not found or cannot be read: ./dataset/training_set\\painting\\1975.jpg\n",
      "Error loading image ./dataset/training_set\\painting\\2000.jpg: Image not found or cannot be read: ./dataset/training_set\\painting\\2000.jpg\n",
      "Error loading image ./dataset/training_set\\painting\\2025.jpg: Image not found or cannot be read: ./dataset/training_set\\painting\\2025.jpg\n",
      "Error loading image ./dataset/training_set\\painting\\2050 20.26.31.jpg: Image not found or cannot be read: ./dataset/training_set\\painting\\2050 20.26.31.jpg\n",
      "Error loading image ./dataset/training_set\\painting\\2075.jpg: Image not found or cannot be read: ./dataset/training_set\\painting\\2075.jpg\n",
      "Error loading image ./dataset/training_set\\painting\\2100.jpg: Image not found or cannot be read: ./dataset/training_set\\painting\\2100.jpg\n",
      "Error loading image ./dataset/training_set\\painting\\2125.jpg: Image not found or cannot be read: ./dataset/training_set\\painting\\2125.jpg\n",
      "Error loading image ./dataset/training_set\\painting\\2150.jpg: Image not found or cannot be read: ./dataset/training_set\\painting\\2150.jpg\n",
      "Error loading image ./dataset/training_set\\painting\\2175.jpg: Image not found or cannot be read: ./dataset/training_set\\painting\\2175.jpg\n",
      "Error loading image ./dataset/training_set\\painting\\2250.jpg: Image not found or cannot be read: ./dataset/training_set\\painting\\2250.jpg\n",
      "Error loading image ./dataset/training_set\\painting\\2300.jpg: Image not found or cannot be read: ./dataset/training_set\\painting\\2300.jpg\n",
      "Error loading image ./dataset/training_set\\painting\\2325.jpg: Image not found or cannot be read: ./dataset/training_set\\painting\\2325.jpg\n",
      "Error loading image ./dataset/training_set\\painting\\2350.jpg: Image not found or cannot be read: ./dataset/training_set\\painting\\2350.jpg\n",
      "Error loading image ./dataset/training_set\\sculpture\\107.jpg: Image not found or cannot be read: ./dataset/training_set\\sculpture\\107.jpg\n",
      "Error loading image ./dataset/training_set\\sculpture\\168.jpg: Image not found or cannot be read: ./dataset/training_set\\sculpture\\168.jpg\n",
      "Error loading image ./dataset/training_set\\sculpture\\190 18.59.45.jpg: Image not found or cannot be read: ./dataset/training_set\\sculpture\\190 18.59.45.jpg\n",
      "Error loading image ./dataset/training_set\\sculpture\\200.jpg: Image not found or cannot be read: ./dataset/training_set\\sculpture\\200.jpg\n",
      "Error loading image ./dataset/training_set\\sculpture\\210.jpg: Image not found or cannot be read: ./dataset/training_set\\sculpture\\210.jpg\n",
      "Error loading image ./dataset/training_set\\sculpture\\261.jpg: Image not found or cannot be read: ./dataset/training_set\\sculpture\\261.jpg\n",
      "Error loading image ./dataset/training_set\\sculpture\\374.jpg: Image not found or cannot be read: ./dataset/training_set\\sculpture\\374.jpg\n",
      "Error loading image ./dataset/validation_set\\painting\\0300.jpg: Image not found or cannot be read: ./dataset/validation_set\\painting\\0300.jpg\n",
      "Error loading image ./dataset/validation_set\\painting\\1150.jpg: Image not found or cannot be read: ./dataset/validation_set\\painting\\1150.jpg\n",
      "Error loading image ./dataset/validation_set\\painting\\1250.jpg: Image not found or cannot be read: ./dataset/validation_set\\painting\\1250.jpg\n",
      "Error loading image ./dataset/validation_set\\painting\\1550.jpg: Image not found or cannot be read: ./dataset/validation_set\\painting\\1550.jpg\n",
      "Error loading image ./dataset/validation_set\\painting\\1600.jpg: Image not found or cannot be read: ./dataset/validation_set\\painting\\1600.jpg\n",
      "Error loading image ./dataset/validation_set\\painting\\2200.jpg: Image not found or cannot be read: ./dataset/validation_set\\painting\\2200.jpg\n",
      "Error loading image ./dataset/validation_set\\painting\\2225.jpg: Image not found or cannot be read: ./dataset/validation_set\\painting\\2225.jpg\n",
      "Error loading image ./dataset/validation_set\\painting\\2275.jpg: Image not found or cannot be read: ./dataset/validation_set\\painting\\2275.jpg\n",
      "Error loading image ./dataset/validation_set\\sculpture\\106.jpg: Image not found or cannot be read: ./dataset/validation_set\\sculpture\\106.jpg\n",
      "Error loading image ./dataset/validation_set\\sculpture\\170.jpg: Image not found or cannot be read: ./dataset/validation_set\\sculpture\\170.jpg\n"
     ]
    }
   ],
   "source": [
    "def create_data(path, size, data_list):\n",
    "    if not os.path.exists(path):\n",
    "        raise ValueError(f\"Path does not exist: {path}\")\n",
    "        \n",
    "    for category in categories:\n",
    "        category_path = os.path.join(path, category)\n",
    "        if not os.path.exists(category_path):\n",
    "            raise ValueError(f\"Category path does not exist: {category_path}\")\n",
    "        \n",
    "        class_num = categories.index(category)\n",
    "        for img in os.listdir(category_path):\n",
    "            img_path = os.path.join(category_path, img)\n",
    "            if not img.lower().endswith(('.png', '.jpg', '.jpeg')):\n",
    "                continue  # Skip non-image files\n",
    "            resized_image = load_and_resize_image(img_path, size)\n",
    "            if resized_image is not None:\n",
    "                data_list.append([resized_image, class_num])\n",
    "\n",
    "training_data, validation_data = [], []\n",
    "\n",
    "create_data(patht, img_size, training_data)\n",
    "create_data(pathv, img_size, validation_data)"
   ]
  },
  {
   "cell_type": "code",
   "execution_count": 55,
   "id": "e7e78410-440f-49f8-ad6c-374d74b4699e",
   "metadata": {},
   "outputs": [
    {
     "name": "stdout",
     "output_type": "stream",
     "text": [
      "7721\n",
      "856\n"
     ]
    }
   ],
   "source": [
    "random.shuffle(training_data)\n",
    "random.shuffle(validation_data)\n",
    "print(len(training_data))\n",
    "print(len(validation_data))"
   ]
  },
  {
   "cell_type": "code",
   "execution_count": 58,
   "id": "83b52e50-0b98-4819-b27c-b18e263c1a72",
   "metadata": {},
   "outputs": [],
   "source": [
    "train_x = np.array([features for features, label in training_data]).reshape(-1, img_size, img_size, 1)\n",
    "train_y = np.array([label for features, label in training_data])\n",
    "val_x = np.array([features for features, label in validation_data]).reshape(-1, img_size, img_size, 1)\n",
    "val_y = np.array([label for features, label in validation_data])\n",
    "\n",
    "train_x, val_x = train_x / 255.0, val_x / 255.0\n",
    "\n",
    "train_y = to_categorical(train_y, num_classes=len(categories))\n",
    "val_y = to_categorical(val_y, num_classes=len(categories))"
   ]
  },
  {
   "cell_type": "code",
   "execution_count": 60,
   "id": "b9609b3c-1244-461a-8514-101bf40b0aba",
   "metadata": {},
   "outputs": [],
   "source": [
    "os.environ[\"OMP_NUM_THREADS\"] = '1'"
   ]
  },
  {
   "cell_type": "code",
   "execution_count": 6,
   "id": "3241799b-f69a-43d2-bcff-795c8cf989dc",
   "metadata": {},
   "outputs": [],
   "source": [
    "train_x = np.load('train_x.npy')\n",
    "train_y = np.load('train_y.npy')\n",
    "val_x = np.load('val_x.npy')\n",
    "val_y = np.load('val_y.npy')"
   ]
  },
  {
   "cell_type": "code",
   "execution_count": 7,
   "id": "ff2ce3a0-1953-4576-8987-765b7c4496fa",
   "metadata": {},
   "outputs": [],
   "source": [
    "train_x_flat = train_x.reshape(train_x.shape[0], -1)\n",
    "val_x_flat = val_x.reshape(val_x.shape[0], -1)"
   ]
  },
  {
   "cell_type": "code",
   "execution_count": 13,
   "id": "d2be4d7c-409f-4171-9f38-9a0372707226",
   "metadata": {},
   "outputs": [
    {
     "name": "stdout",
     "output_type": "stream",
     "text": [
      "Epoch 1/50\n",
      "31/31 [==============================] - 34s 1s/step - loss: 0.0686 - val_loss: 0.0556\n",
      "Epoch 2/50\n",
      "31/31 [==============================] - 28s 919ms/step - loss: 0.0520 - val_loss: 0.0468\n",
      "Epoch 3/50\n",
      "31/31 [==============================] - 34s 1s/step - loss: 0.0441 - val_loss: 0.0439\n",
      "Epoch 4/50\n",
      "31/31 [==============================] - 73s 2s/step - loss: 0.0407 - val_loss: 0.0387\n",
      "Epoch 5/50\n",
      "31/31 [==============================] - 27s 887ms/step - loss: 0.0370 - val_loss: 0.0373\n",
      "Epoch 6/50\n",
      "31/31 [==============================] - 26s 841ms/step - loss: 0.0363 - val_loss: 0.0382\n",
      "Epoch 7/50\n",
      "31/31 [==============================] - 26s 850ms/step - loss: 0.0351 - val_loss: 0.0356\n",
      "Epoch 8/50\n",
      "31/31 [==============================] - 31s 998ms/step - loss: 0.0340 - val_loss: 0.0343\n",
      "Epoch 9/50\n",
      "31/31 [==============================] - 25s 808ms/step - loss: 0.0332 - val_loss: 0.0348\n",
      "Epoch 10/50\n",
      "31/31 [==============================] - 22s 722ms/step - loss: 0.0342 - val_loss: 0.0340\n",
      "Epoch 11/50\n",
      "31/31 [==============================] - 22s 711ms/step - loss: 0.0320 - val_loss: 0.0334\n",
      "Epoch 12/50\n",
      "31/31 [==============================] - 30s 975ms/step - loss: 0.0317 - val_loss: 0.0334\n",
      "Epoch 13/50\n",
      "31/31 [==============================] - 23s 727ms/step - loss: 0.0309 - val_loss: 0.0322\n",
      "Epoch 14/50\n",
      "31/31 [==============================] - 25s 808ms/step - loss: 0.0302 - val_loss: 0.0314\n",
      "Epoch 15/50\n",
      "31/31 [==============================] - 24s 779ms/step - loss: 0.0295 - val_loss: 0.0312\n",
      "Epoch 16/50\n",
      "31/31 [==============================] - 32s 1s/step - loss: 0.0298 - val_loss: 0.0313\n",
      "Epoch 17/50\n",
      "31/31 [==============================] - 25s 822ms/step - loss: 0.0290 - val_loss: 0.0301\n",
      "Epoch 18/50\n",
      "31/31 [==============================] - 27s 865ms/step - loss: 0.0284 - val_loss: 0.0311\n",
      "Epoch 19/50\n",
      "31/31 [==============================] - 24s 765ms/step - loss: 0.0284 - val_loss: 0.0327\n",
      "Epoch 20/50\n",
      "31/31 [==============================] - 30s 959ms/step - loss: 0.0286 - val_loss: 0.0304\n",
      "Epoch 21/50\n",
      "31/31 [==============================] - 24s 760ms/step - loss: 0.0276 - val_loss: 0.0292\n",
      "Epoch 22/50\n",
      "31/31 [==============================] - 24s 772ms/step - loss: 0.0267 - val_loss: 0.0292\n",
      "Epoch 23/50\n",
      "31/31 [==============================] - 22s 725ms/step - loss: 0.0269 - val_loss: 0.0302\n",
      "Epoch 24/50\n",
      "31/31 [==============================] - 31s 1s/step - loss: 0.0271 - val_loss: 0.0297\n",
      "Epoch 25/50\n",
      "31/31 [==============================] - 26s 853ms/step - loss: 0.0264 - val_loss: 0.0284\n",
      "Epoch 26/50\n",
      "31/31 [==============================] - 26s 836ms/step - loss: 0.0259 - val_loss: 0.0280\n",
      "Epoch 27/50\n",
      "31/31 [==============================] - 26s 829ms/step - loss: 0.0251 - val_loss: 0.0309\n",
      "Epoch 28/50\n",
      "31/31 [==============================] - 24s 768ms/step - loss: 0.0303 - val_loss: 0.0305\n",
      "Epoch 29/50\n",
      "31/31 [==============================] - 32s 1s/step - loss: 0.0263 - val_loss: 0.0296\n",
      "Epoch 30/50\n",
      "31/31 [==============================] - 23s 736ms/step - loss: 0.0250 - val_loss: 0.0270\n",
      "Epoch 31/50\n",
      "31/31 [==============================] - 24s 762ms/step - loss: 0.0244 - val_loss: 0.0272\n",
      "Epoch 32/50\n",
      "31/31 [==============================] - 24s 767ms/step - loss: 0.0242 - val_loss: 0.0271\n",
      "Epoch 33/50\n",
      "31/31 [==============================] - 30s 959ms/step - loss: 0.0241 - val_loss: 0.0274\n",
      "Epoch 34/50\n",
      "31/31 [==============================] - 24s 775ms/step - loss: 0.0240 - val_loss: 0.0265\n",
      "Epoch 35/50\n",
      "31/31 [==============================] - 24s 765ms/step - loss: 0.0237 - val_loss: 0.0264\n",
      "Epoch 36/50\n",
      "31/31 [==============================] - 24s 774ms/step - loss: 0.0237 - val_loss: 0.0261\n",
      "Epoch 37/50\n",
      "31/31 [==============================] - 30s 967ms/step - loss: 0.0232 - val_loss: 0.0257\n",
      "Epoch 38/50\n",
      "31/31 [==============================] - 23s 757ms/step - loss: 0.0231 - val_loss: 0.0253\n",
      "Epoch 39/50\n",
      "31/31 [==============================] - 24s 786ms/step - loss: 0.0235 - val_loss: 0.0278\n",
      "Epoch 40/50\n",
      "31/31 [==============================] - 24s 774ms/step - loss: 0.0239 - val_loss: 0.0281\n",
      "Epoch 41/50\n",
      "31/31 [==============================] - 31s 1s/step - loss: 0.0241 - val_loss: 0.0249\n",
      "Epoch 42/50\n",
      "31/31 [==============================] - 24s 765ms/step - loss: 0.0229 - val_loss: 0.0249\n",
      "Epoch 43/50\n",
      "31/31 [==============================] - 23s 741ms/step - loss: 0.0225 - val_loss: 0.0249\n",
      "Epoch 44/50\n",
      "31/31 [==============================] - 24s 771ms/step - loss: 0.0229 - val_loss: 0.0243\n",
      "Epoch 45/50\n",
      "31/31 [==============================] - 26s 837ms/step - loss: 0.0222 - val_loss: 0.0238\n",
      "Epoch 46/50\n",
      "31/31 [==============================] - 29s 949ms/step - loss: 0.0224 - val_loss: 0.0240\n",
      "Epoch 47/50\n",
      "31/31 [==============================] - 25s 810ms/step - loss: 0.0222 - val_loss: 0.0238\n",
      "Epoch 48/50\n",
      "31/31 [==============================] - 26s 840ms/step - loss: 0.0219 - val_loss: 0.0236\n",
      "Epoch 49/50\n",
      "31/31 [==============================] - 39s 1s/step - loss: 0.0218 - val_loss: 0.0235\n",
      "Epoch 50/50\n",
      "31/31 [==============================] - 26s 854ms/step - loss: 0.0219 - val_loss: 0.0234\n",
      "Encoded training data shape: (7721, 64)\n",
      "Encoded validation data shape: (856, 64)\n"
     ]
    }
   ],
   "source": [
    "input_dim = train_x_flat.shape[1]  # Flattened size of the input image\n",
    "encoding_dim = 64  # Size of the encoded representation (can be adjusted)\n",
    "\n",
    "# Input layer\n",
    "input_layer = Input(shape=(input_dim,))\n",
    "\n",
    "# Encoder\n",
    "encoded = Dense(128, activation='relu')(input_layer)\n",
    "encoded = Dense(encoding_dim, activation='relu')(encoded)\n",
    "\n",
    "# Decoder\n",
    "decoded = Dense(128, activation='relu')(encoded)\n",
    "decoded = Dense(input_dim, activation='sigmoid')(decoded)\n",
    "\n",
    "# Autoencoder model\n",
    "autoencoder = Model(inputs=input_layer, outputs=decoded)\n",
    "\n",
    "# Encoder model for extracting features\n",
    "encoder = Model(inputs=input_layer, outputs=encoded)\n",
    "\n",
    "# Compile the autoencoder\n",
    "autoencoder.compile(optimizer=Adam(learning_rate=0.001), loss='mse')\n",
    "\n",
    "# Train the autoencoder\n",
    "autoencoder.fit(train_x_flat, train_x_flat,\n",
    "                epochs=50,\n",
    "                batch_size=256,\n",
    "                shuffle=True,\n",
    "                validation_data=(val_x_flat, val_x_flat))\n",
    "\n",
    "# Use the encoder to get compressed representations\n",
    "encoded_train_x = encoder.predict(train_x_flat)\n",
    "encoded_val_x = encoder.predict(val_x_flat)\n",
    "\n",
    "print(\"Encoded training data shape:\", encoded_train_x.shape)\n",
    "print(\"Encoded validation data shape:\", encoded_val_x.shape)"
   ]
  },
  {
   "cell_type": "code",
   "execution_count": 86,
   "id": "b9b3c81e-c73b-42ab-8d04-18e9bf7f87bb",
   "metadata": {},
   "outputs": [],
   "source": [
    "np.save('train_x.npy', train_x)\n",
    "np.save('train_y.npy', train_y)\n",
    "np.save('val_x.npy', val_x)\n",
    "np.save('val_y.npy', val_y)"
   ]
  },
  {
   "cell_type": "code",
   "execution_count": 73,
   "id": "2e37db40-edb4-4c16-8790-31c247262c7a",
   "metadata": {},
   "outputs": [],
   "source": [
    "def elbow_method(data):\n",
    "    cluster_range = range(1, 11)  # Example: Testing from 1 to 10 clusters\n",
    "    inertia_values = []\n",
    "    silhouette_scores = []\n",
    "    # Try different values of k (Elbow method)\n",
    "    for k in cluster_range:\n",
    "        model = MiniBatchKMeans(n_clusters = k, random_state = 42, batch_size = 100)\n",
    "        model.fit(data)\n",
    "        inertia_values.append(model.inertia_)\n",
    "\n",
    "        if k > 1:\n",
    "            score = silhouette_score(data, model.labels_)\n",
    "            silhouette_scores.append(score)\n",
    "\n",
    "    plt.figure(figsize=(10, 6))\n",
    "    plt.plot(cluster_range, inertia_values, marker='o', color='blue', label='Inertia')\n",
    "    plt.title('Elbow Method for Optimal k (MiniBatchKMeans)')\n",
    "    plt.xlabel('Number of Clusters')\n",
    "    plt.ylabel('Inertia')\n",
    "    plt.xticks(cluster_range)\n",
    "    plt.grid(True)\n",
    "    plt.legend()\n",
    "    plt.show()\n",
    "    \n",
    "    # Optional: Plot Silhouette Score for further evaluation\n",
    "    plt.figure(figsize=(10, 6))\n",
    "    plt.plot(cluster_range[1:], silhouette_scores, marker='o', color='green', label='Silhouette Score')\n",
    "    plt.title('Silhouette Score for Different Number of Clusters')\n",
    "    plt.xlabel('Number of Clusters')\n",
    "    plt.ylabel('Silhouette Score')\n",
    "    plt.xticks(cluster_range[1:])\n",
    "    plt.grid(True)\n",
    "    plt.legend()\n",
    "    plt.show()"
   ]
  },
  {
   "cell_type": "code",
   "execution_count": 74,
   "id": "17b9926a-63a6-42a7-b502-145dfec04c12",
   "metadata": {},
   "outputs": [],
   "source": [
    "import warnings\n",
    "warnings.filterwarnings('ignore')"
   ]
  },
  {
   "cell_type": "code",
   "execution_count": 75,
   "id": "846dac29-b2db-4fbf-9058-ae1122ebc5bc",
   "metadata": {},
   "outputs": [
    {
     "data": {
      "image/png": "[encoded data removed]",
      "text/plain": [
       "<Figure size 1000x600 with 1 Axes>"
      ]
     },
     "metadata": {},
     "output_type": "display_data"
    },
    {
     "data": {
      "image/png": "[encoded data removed]",
      "text/plain": [
       "<Figure size 1000x600 with 1 Axes>"
      ]
     },
     "metadata": {},
     "output_type": "display_data"
    }
   ],
   "source": [
    "elbow_method(train_x_flat)"
   ]
  },
  {
   "cell_type": "code",
   "execution_count": 88,
   "id": "b94e3ff7-a7f1-48e7-ac17-88669359868b",
   "metadata": {},
   "outputs": [],
   "source": [
    "def create_cnn_model(input_shape, num_classes):\n",
    "    model = models.Sequential([\n",
    "        layers.Conv2D(32, (3, 3), activation='relu', input_shape=input_shape),\n",
    "        layers.MaxPooling2D((2, 2)),\n",
    "        layers.Conv2D(64, (3, 3), activation='relu'),\n",
    "        layers.MaxPooling2D((2, 2)),\n",
    "        layers.Conv2D(64, (3, 3), activation='relu'),\n",
    "        layers.Flatten(),\n",
    "        layers.Dense(64, activation='relu'),\n",
    "        layers.Dense(num_classes, activation='softmax')  # For multi-class classification\n",
    "    ])\n",
    "    return model"
   ]
  },
  {
   "cell_type": "code",
   "execution_count": 89,
   "id": "16f73acc-36a4-4ba9-9005-dea7414c0433",
   "metadata": {},
   "outputs": [],
   "source": [
    "# Define the input shape and number of classes\n",
    "input_shape = (img_size, img_size, 1)  # Grayscale images, so 1 channel\n",
    "num_classes = len(categories)\n",
    "\n",
    "# Create the CNN model\n",
    "model = create_cnn_model(input_shape, num_classes)\n",
    "\n",
    "# Compile the model\n",
    "model.compile(optimizer='adam',\n",
    "              loss='categorical_crossentropy',\n",
    "              metrics=['accuracy'])"
   ]
  },
  {
   "cell_type": "code",
   "execution_count": 90,
   "id": "b3a679fa-0b00-492a-9ebc-310d311307b4",
   "metadata": {},
   "outputs": [
    {
     "name": "stdout",
     "output_type": "stream",
     "text": [
      "Epoch 1/10\n",
      "  8/242 [..............................] - ETA: 12:21 - loss: 4.5097 - accuracy: 0.2188"
     ]
    },
    {
     "name": "stderr",
     "output_type": "stream",
     "text": [
      "Exception ignored in: <bound method IPythonKernel._clean_thread_parent_frames of <ipykernel.ipkernel.IPythonKernel object at 0x000001DA465FC760>>\n",
      "Traceback (most recent call last):\n",
      "  File \"C:\\Users\\ziads\\anaconda3\\envs\\dl\\lib\\site-packages\\ipykernel\\ipkernel.py\", line 775, in _clean_thread_parent_frames\n",
      "    def _clean_thread_parent_frames(\n",
      "KeyboardInterrupt: \n"
     ]
    },
    {
     "ename": "KeyboardInterrupt",
     "evalue": "",
     "output_type": "error",
     "traceback": [
      "\u001b[1;31m---------------------------------------------------------------------------\u001b[0m",
      "\u001b[1;31mKeyboardInterrupt\u001b[0m                         Traceback (most recent call last)",
      "Cell \u001b[1;32mIn[90], line 2\u001b[0m\n\u001b[0;32m      1\u001b[0m \u001b[38;5;66;03m# Train the model with the prepared data\u001b[39;00m\n\u001b[1;32m----> 2\u001b[0m history \u001b[38;5;241m=\u001b[39m \u001b[43mmodel\u001b[49m\u001b[38;5;241;43m.\u001b[39;49m\u001b[43mfit\u001b[49m\u001b[43m(\u001b[49m\u001b[43mtrain_x\u001b[49m\u001b[43m,\u001b[49m\u001b[43m \u001b[49m\u001b[43mtrain_y\u001b[49m\u001b[43m,\u001b[49m\u001b[43m \u001b[49m\n\u001b[0;32m      3\u001b[0m \u001b[43m                    \u001b[49m\u001b[43mepochs\u001b[49m\u001b[38;5;241;43m=\u001b[39;49m\u001b[38;5;241;43m10\u001b[39;49m\u001b[43m,\u001b[49m\u001b[43m \u001b[49m\n\u001b[0;32m      4\u001b[0m \u001b[43m                    \u001b[49m\u001b[43mbatch_size\u001b[49m\u001b[38;5;241;43m=\u001b[39;49m\u001b[38;5;241;43m32\u001b[39;49m\u001b[43m,\u001b[49m\u001b[43m \u001b[49m\n\u001b[0;32m      5\u001b[0m \u001b[43m                    \u001b[49m\u001b[43mvalidation_data\u001b[49m\u001b[38;5;241;43m=\u001b[39;49m\u001b[43m(\u001b[49m\u001b[43mval_x\u001b[49m\u001b[43m,\u001b[49m\u001b[43m \u001b[49m\u001b[43mval_y\u001b[49m\u001b[43m)\u001b[49m\u001b[43m)\u001b[49m\n",
      "File \u001b[1;32m~\\anaconda3\\envs\\dl\\lib\\site-packages\\keras\\utils\\traceback_utils.py:65\u001b[0m, in \u001b[0;36mfilter_traceback.<locals>.error_handler\u001b[1;34m(*args, **kwargs)\u001b[0m\n\u001b[0;32m     63\u001b[0m filtered_tb \u001b[38;5;241m=\u001b[39m \u001b[38;5;28;01mNone\u001b[39;00m\n\u001b[0;32m     64\u001b[0m \u001b[38;5;28;01mtry\u001b[39;00m:\n\u001b[1;32m---> 65\u001b[0m     \u001b[38;5;28;01mreturn\u001b[39;00m fn(\u001b[38;5;241m*\u001b[39margs, \u001b[38;5;241m*\u001b[39m\u001b[38;5;241m*\u001b[39mkwargs)\n\u001b[0;32m     66\u001b[0m \u001b[38;5;28;01mexcept\u001b[39;00m \u001b[38;5;167;01mException\u001b[39;00m \u001b[38;5;28;01mas\u001b[39;00m e:\n\u001b[0;32m     67\u001b[0m     filtered_tb \u001b[38;5;241m=\u001b[39m _process_traceback_frames(e\u001b[38;5;241m.\u001b[39m__traceback__)\n",
      "File \u001b[1;32m~\\anaconda3\\envs\\dl\\lib\\site-packages\\keras\\engine\\training.py:1564\u001b[0m, in \u001b[0;36mModel.fit\u001b[1;34m(self, x, y, batch_size, epochs, verbose, callbacks, validation_split, validation_data, shuffle, class_weight, sample_weight, initial_epoch, steps_per_epoch, validation_steps, validation_batch_size, validation_freq, max_queue_size, workers, use_multiprocessing)\u001b[0m\n\u001b[0;32m   1556\u001b[0m \u001b[38;5;28;01mwith\u001b[39;00m tf\u001b[38;5;241m.\u001b[39mprofiler\u001b[38;5;241m.\u001b[39mexperimental\u001b[38;5;241m.\u001b[39mTrace(\n\u001b[0;32m   1557\u001b[0m     \u001b[38;5;124m\"\u001b[39m\u001b[38;5;124mtrain\u001b[39m\u001b[38;5;124m\"\u001b[39m,\n\u001b[0;32m   1558\u001b[0m     epoch_num\u001b[38;5;241m=\u001b[39mepoch,\n\u001b[1;32m   (...)\u001b[0m\n\u001b[0;32m   1561\u001b[0m     _r\u001b[38;5;241m=\u001b[39m\u001b[38;5;241m1\u001b[39m,\n\u001b[0;32m   1562\u001b[0m ):\n\u001b[0;32m   1563\u001b[0m     callbacks\u001b[38;5;241m.\u001b[39mon_train_batch_begin(step)\n\u001b[1;32m-> 1564\u001b[0m     tmp_logs \u001b[38;5;241m=\u001b[39m \u001b[38;5;28;43mself\u001b[39;49m\u001b[38;5;241;43m.\u001b[39;49m\u001b[43mtrain_function\u001b[49m\u001b[43m(\u001b[49m\u001b[43miterator\u001b[49m\u001b[43m)\u001b[49m\n\u001b[0;32m   1565\u001b[0m     \u001b[38;5;28;01mif\u001b[39;00m data_handler\u001b[38;5;241m.\u001b[39mshould_sync:\n\u001b[0;32m   1566\u001b[0m         context\u001b[38;5;241m.\u001b[39masync_wait()\n",
      "File \u001b[1;32m~\\anaconda3\\envs\\dl\\lib\\site-packages\\tensorflow\\python\\util\\traceback_utils.py:150\u001b[0m, in \u001b[0;36mfilter_traceback.<locals>.error_handler\u001b[1;34m(*args, **kwargs)\u001b[0m\n\u001b[0;32m    148\u001b[0m filtered_tb \u001b[38;5;241m=\u001b[39m \u001b[38;5;28;01mNone\u001b[39;00m\n\u001b[0;32m    149\u001b[0m \u001b[38;5;28;01mtry\u001b[39;00m:\n\u001b[1;32m--> 150\u001b[0m   \u001b[38;5;28;01mreturn\u001b[39;00m fn(\u001b[38;5;241m*\u001b[39margs, \u001b[38;5;241m*\u001b[39m\u001b[38;5;241m*\u001b[39mkwargs)\n\u001b[0;32m    151\u001b[0m \u001b[38;5;28;01mexcept\u001b[39;00m \u001b[38;5;167;01mException\u001b[39;00m \u001b[38;5;28;01mas\u001b[39;00m e:\n\u001b[0;32m    152\u001b[0m   filtered_tb \u001b[38;5;241m=\u001b[39m _process_traceback_frames(e\u001b[38;5;241m.\u001b[39m__traceback__)\n",
      "File \u001b[1;32m~\\anaconda3\\envs\\dl\\lib\\site-packages\\tensorflow\\python\\eager\\def_function.py:915\u001b[0m, in \u001b[0;36mFunction.__call__\u001b[1;34m(self, *args, **kwds)\u001b[0m\n\u001b[0;32m    912\u001b[0m compiler \u001b[38;5;241m=\u001b[39m \u001b[38;5;124m\"\u001b[39m\u001b[38;5;124mxla\u001b[39m\u001b[38;5;124m\"\u001b[39m \u001b[38;5;28;01mif\u001b[39;00m \u001b[38;5;28mself\u001b[39m\u001b[38;5;241m.\u001b[39m_jit_compile \u001b[38;5;28;01melse\u001b[39;00m \u001b[38;5;124m\"\u001b[39m\u001b[38;5;124mnonXla\u001b[39m\u001b[38;5;124m\"\u001b[39m\n\u001b[0;32m    914\u001b[0m \u001b[38;5;28;01mwith\u001b[39;00m OptionalXlaContext(\u001b[38;5;28mself\u001b[39m\u001b[38;5;241m.\u001b[39m_jit_compile):\n\u001b[1;32m--> 915\u001b[0m   result \u001b[38;5;241m=\u001b[39m \u001b[38;5;28mself\u001b[39m\u001b[38;5;241m.\u001b[39m_call(\u001b[38;5;241m*\u001b[39margs, \u001b[38;5;241m*\u001b[39m\u001b[38;5;241m*\u001b[39mkwds)\n\u001b[0;32m    917\u001b[0m new_tracing_count \u001b[38;5;241m=\u001b[39m \u001b[38;5;28mself\u001b[39m\u001b[38;5;241m.\u001b[39mexperimental_get_tracing_count()\n\u001b[0;32m    918\u001b[0m without_tracing \u001b[38;5;241m=\u001b[39m (tracing_count \u001b[38;5;241m==\u001b[39m new_tracing_count)\n",
      "File \u001b[1;32m~\\anaconda3\\envs\\dl\\lib\\site-packages\\tensorflow\\python\\eager\\def_function.py:947\u001b[0m, in \u001b[0;36mFunction._call\u001b[1;34m(self, *args, **kwds)\u001b[0m\n\u001b[0;32m    944\u001b[0m   \u001b[38;5;28mself\u001b[39m\u001b[38;5;241m.\u001b[39m_lock\u001b[38;5;241m.\u001b[39mrelease()\n\u001b[0;32m    945\u001b[0m   \u001b[38;5;66;03m# In this case we have created variables on the first call, so we run the\u001b[39;00m\n\u001b[0;32m    946\u001b[0m   \u001b[38;5;66;03m# defunned version which is guaranteed to never create variables.\u001b[39;00m\n\u001b[1;32m--> 947\u001b[0m   \u001b[38;5;28;01mreturn\u001b[39;00m \u001b[38;5;28mself\u001b[39m\u001b[38;5;241m.\u001b[39m_stateless_fn(\u001b[38;5;241m*\u001b[39margs, \u001b[38;5;241m*\u001b[39m\u001b[38;5;241m*\u001b[39mkwds)  \u001b[38;5;66;03m# pylint: disable=not-callable\u001b[39;00m\n\u001b[0;32m    948\u001b[0m \u001b[38;5;28;01melif\u001b[39;00m \u001b[38;5;28mself\u001b[39m\u001b[38;5;241m.\u001b[39m_stateful_fn \u001b[38;5;129;01mis\u001b[39;00m \u001b[38;5;129;01mnot\u001b[39;00m \u001b[38;5;28;01mNone\u001b[39;00m:\n\u001b[0;32m    949\u001b[0m   \u001b[38;5;66;03m# Release the lock early so that multiple threads can perform the call\u001b[39;00m\n\u001b[0;32m    950\u001b[0m   \u001b[38;5;66;03m# in parallel.\u001b[39;00m\n\u001b[0;32m    951\u001b[0m   \u001b[38;5;28mself\u001b[39m\u001b[38;5;241m.\u001b[39m_lock\u001b[38;5;241m.\u001b[39mrelease()\n",
      "File \u001b[1;32m~\\anaconda3\\envs\\dl\\lib\\site-packages\\tensorflow\\python\\eager\\function.py:2496\u001b[0m, in \u001b[0;36mFunction.__call__\u001b[1;34m(self, *args, **kwargs)\u001b[0m\n\u001b[0;32m   2493\u001b[0m \u001b[38;5;28;01mwith\u001b[39;00m \u001b[38;5;28mself\u001b[39m\u001b[38;5;241m.\u001b[39m_lock:\n\u001b[0;32m   2494\u001b[0m   (graph_function,\n\u001b[0;32m   2495\u001b[0m    filtered_flat_args) \u001b[38;5;241m=\u001b[39m \u001b[38;5;28mself\u001b[39m\u001b[38;5;241m.\u001b[39m_maybe_define_function(args, kwargs)\n\u001b[1;32m-> 2496\u001b[0m \u001b[38;5;28;01mreturn\u001b[39;00m \u001b[43mgraph_function\u001b[49m\u001b[38;5;241;43m.\u001b[39;49m\u001b[43m_call_flat\u001b[49m\u001b[43m(\u001b[49m\n\u001b[0;32m   2497\u001b[0m \u001b[43m    \u001b[49m\u001b[43mfiltered_flat_args\u001b[49m\u001b[43m,\u001b[49m\u001b[43m \u001b[49m\u001b[43mcaptured_inputs\u001b[49m\u001b[38;5;241;43m=\u001b[39;49m\u001b[43mgraph_function\u001b[49m\u001b[38;5;241;43m.\u001b[39;49m\u001b[43mcaptured_inputs\u001b[49m\u001b[43m)\u001b[49m\n",
      "File \u001b[1;32m~\\anaconda3\\envs\\dl\\lib\\site-packages\\tensorflow\\python\\eager\\function.py:1862\u001b[0m, in \u001b[0;36mConcreteFunction._call_flat\u001b[1;34m(self, args, captured_inputs, cancellation_manager)\u001b[0m\n\u001b[0;32m   1858\u001b[0m possible_gradient_type \u001b[38;5;241m=\u001b[39m gradients_util\u001b[38;5;241m.\u001b[39mPossibleTapeGradientTypes(args)\n\u001b[0;32m   1859\u001b[0m \u001b[38;5;28;01mif\u001b[39;00m (possible_gradient_type \u001b[38;5;241m==\u001b[39m gradients_util\u001b[38;5;241m.\u001b[39mPOSSIBLE_GRADIENT_TYPES_NONE\n\u001b[0;32m   1860\u001b[0m     \u001b[38;5;129;01mand\u001b[39;00m executing_eagerly):\n\u001b[0;32m   1861\u001b[0m   \u001b[38;5;66;03m# No tape is watching; skip to running the function.\u001b[39;00m\n\u001b[1;32m-> 1862\u001b[0m   \u001b[38;5;28;01mreturn\u001b[39;00m \u001b[38;5;28mself\u001b[39m\u001b[38;5;241m.\u001b[39m_build_call_outputs(\u001b[38;5;28;43mself\u001b[39;49m\u001b[38;5;241;43m.\u001b[39;49m\u001b[43m_inference_function\u001b[49m\u001b[38;5;241;43m.\u001b[39;49m\u001b[43mcall\u001b[49m\u001b[43m(\u001b[49m\n\u001b[0;32m   1863\u001b[0m \u001b[43m      \u001b[49m\u001b[43mctx\u001b[49m\u001b[43m,\u001b[49m\u001b[43m \u001b[49m\u001b[43margs\u001b[49m\u001b[43m,\u001b[49m\u001b[43m \u001b[49m\u001b[43mcancellation_manager\u001b[49m\u001b[38;5;241;43m=\u001b[39;49m\u001b[43mcancellation_manager\u001b[49m\u001b[43m)\u001b[49m)\n\u001b[0;32m   1864\u001b[0m forward_backward \u001b[38;5;241m=\u001b[39m \u001b[38;5;28mself\u001b[39m\u001b[38;5;241m.\u001b[39m_select_forward_and_backward_functions(\n\u001b[0;32m   1865\u001b[0m     args,\n\u001b[0;32m   1866\u001b[0m     possible_gradient_type,\n\u001b[0;32m   1867\u001b[0m     executing_eagerly)\n\u001b[0;32m   1868\u001b[0m forward_function, args_with_tangents \u001b[38;5;241m=\u001b[39m forward_backward\u001b[38;5;241m.\u001b[39mforward()\n",
      "File \u001b[1;32m~\\anaconda3\\envs\\dl\\lib\\site-packages\\tensorflow\\python\\eager\\function.py:499\u001b[0m, in \u001b[0;36m_EagerDefinedFunction.call\u001b[1;34m(self, ctx, args, cancellation_manager)\u001b[0m\n\u001b[0;32m    497\u001b[0m \u001b[38;5;28;01mwith\u001b[39;00m _InterpolateFunctionError(\u001b[38;5;28mself\u001b[39m):\n\u001b[0;32m    498\u001b[0m   \u001b[38;5;28;01mif\u001b[39;00m cancellation_manager \u001b[38;5;129;01mis\u001b[39;00m \u001b[38;5;28;01mNone\u001b[39;00m:\n\u001b[1;32m--> 499\u001b[0m     outputs \u001b[38;5;241m=\u001b[39m \u001b[43mexecute\u001b[49m\u001b[38;5;241;43m.\u001b[39;49m\u001b[43mexecute\u001b[49m\u001b[43m(\u001b[49m\n\u001b[0;32m    500\u001b[0m \u001b[43m        \u001b[49m\u001b[38;5;28;43mstr\u001b[39;49m\u001b[43m(\u001b[49m\u001b[38;5;28;43mself\u001b[39;49m\u001b[38;5;241;43m.\u001b[39;49m\u001b[43msignature\u001b[49m\u001b[38;5;241;43m.\u001b[39;49m\u001b[43mname\u001b[49m\u001b[43m)\u001b[49m\u001b[43m,\u001b[49m\n\u001b[0;32m    501\u001b[0m \u001b[43m        \u001b[49m\u001b[43mnum_outputs\u001b[49m\u001b[38;5;241;43m=\u001b[39;49m\u001b[38;5;28;43mself\u001b[39;49m\u001b[38;5;241;43m.\u001b[39;49m\u001b[43m_num_outputs\u001b[49m\u001b[43m,\u001b[49m\n\u001b[0;32m    502\u001b[0m \u001b[43m        \u001b[49m\u001b[43minputs\u001b[49m\u001b[38;5;241;43m=\u001b[39;49m\u001b[43margs\u001b[49m\u001b[43m,\u001b[49m\n\u001b[0;32m    503\u001b[0m \u001b[43m        \u001b[49m\u001b[43mattrs\u001b[49m\u001b[38;5;241;43m=\u001b[39;49m\u001b[43mattrs\u001b[49m\u001b[43m,\u001b[49m\n\u001b[0;32m    504\u001b[0m \u001b[43m        \u001b[49m\u001b[43mctx\u001b[49m\u001b[38;5;241;43m=\u001b[39;49m\u001b[43mctx\u001b[49m\u001b[43m)\u001b[49m\n\u001b[0;32m    505\u001b[0m   \u001b[38;5;28;01melse\u001b[39;00m:\n\u001b[0;32m    506\u001b[0m     outputs \u001b[38;5;241m=\u001b[39m execute\u001b[38;5;241m.\u001b[39mexecute_with_cancellation(\n\u001b[0;32m    507\u001b[0m         \u001b[38;5;28mstr\u001b[39m(\u001b[38;5;28mself\u001b[39m\u001b[38;5;241m.\u001b[39msignature\u001b[38;5;241m.\u001b[39mname),\n\u001b[0;32m    508\u001b[0m         num_outputs\u001b[38;5;241m=\u001b[39m\u001b[38;5;28mself\u001b[39m\u001b[38;5;241m.\u001b[39m_num_outputs,\n\u001b[1;32m   (...)\u001b[0m\n\u001b[0;32m    511\u001b[0m         ctx\u001b[38;5;241m=\u001b[39mctx,\n\u001b[0;32m    512\u001b[0m         cancellation_manager\u001b[38;5;241m=\u001b[39mcancellation_manager)\n",
      "File \u001b[1;32m~\\anaconda3\\envs\\dl\\lib\\site-packages\\tensorflow\\python\\eager\\execute.py:54\u001b[0m, in \u001b[0;36mquick_execute\u001b[1;34m(op_name, num_outputs, inputs, attrs, ctx, name)\u001b[0m\n\u001b[0;32m     52\u001b[0m \u001b[38;5;28;01mtry\u001b[39;00m:\n\u001b[0;32m     53\u001b[0m   ctx\u001b[38;5;241m.\u001b[39mensure_initialized()\n\u001b[1;32m---> 54\u001b[0m   tensors \u001b[38;5;241m=\u001b[39m \u001b[43mpywrap_tfe\u001b[49m\u001b[38;5;241;43m.\u001b[39;49m\u001b[43mTFE_Py_Execute\u001b[49m\u001b[43m(\u001b[49m\u001b[43mctx\u001b[49m\u001b[38;5;241;43m.\u001b[39;49m\u001b[43m_handle\u001b[49m\u001b[43m,\u001b[49m\u001b[43m \u001b[49m\u001b[43mdevice_name\u001b[49m\u001b[43m,\u001b[49m\u001b[43m \u001b[49m\u001b[43mop_name\u001b[49m\u001b[43m,\u001b[49m\n\u001b[0;32m     55\u001b[0m \u001b[43m                                      \u001b[49m\u001b[43minputs\u001b[49m\u001b[43m,\u001b[49m\u001b[43m \u001b[49m\u001b[43mattrs\u001b[49m\u001b[43m,\u001b[49m\u001b[43m \u001b[49m\u001b[43mnum_outputs\u001b[49m\u001b[43m)\u001b[49m\n\u001b[0;32m     56\u001b[0m \u001b[38;5;28;01mexcept\u001b[39;00m core\u001b[38;5;241m.\u001b[39m_NotOkStatusException \u001b[38;5;28;01mas\u001b[39;00m e:\n\u001b[0;32m     57\u001b[0m   \u001b[38;5;28;01mif\u001b[39;00m name \u001b[38;5;129;01mis\u001b[39;00m \u001b[38;5;129;01mnot\u001b[39;00m \u001b[38;5;28;01mNone\u001b[39;00m:\n",
      "\u001b[1;31mKeyboardInterrupt\u001b[0m: "
     ]
    }
   ],
   "source": [
    "# Train the model with the prepared data\n",
    "history = model.fit(train_x, train_y, \n",
    "                    epochs=10, \n",
    "                    batch_size=32, \n",
    "                    validation_data=(val_x, val_y))"
   ]
  },
  {
   "cell_type": "code",
   "execution_count": null,
   "id": "8deb9798-3bf2-4fdd-9d5f-08ac8d50b796",
   "metadata": {},
   "outputs": [],
   "source": [
    "# Evaluate the model on the validation set\n",
    "val_loss, val_acc = model.evaluate(val_x, val_y)\n",
    "print(f'Validation Accuracy: {val_acc * 100:.2f}%')"
   ]
  },
  {
   "cell_type": "code",
   "execution_count": null,
   "id": "2f44c96c-9e0e-4849-bd94-d8d04e23b190",
   "metadata": {},
   "outputs": [],
   "source": [
    "plt.plot(history.history['accuracy'])\n",
    "plt.plot(history.history['val_accuracy'])\n",
    "plt.title('Model accuracy')\n",
    "plt.xlabel('Epoch')\n",
    "plt.ylabel('Accuracy')\n",
    "plt.legend(['Train', 'Validation'], loc='upper left')\n",
    "plt.show()\n",
    "\n",
    "# Plot training & validation loss values\n",
    "plt.plot(history.history['loss'])\n",
    "plt.plot(history.history['val_loss'])\n",
    "plt.title('Model loss')\n",
    "plt.xlabel('Epoch')\n",
    "plt.ylabel('Loss')\n",
    "plt.legend(['Train', 'Validation'], loc='upper left')\n",
    "plt.show()"
   ]
  },
  {
   "cell_type": "code",
   "execution_count": null,
   "id": "ec177ad7-bc15-455b-b968-85314e8d3bb2",
   "metadata": {},
   "outputs": [],
   "source": []
  }
 ],
 "metadata": {
  "kernelspec": {
   "display_name": "Python 3 (ipykernel)",
   "language": "python",
   "name": "python3"
  },
  "language_info": {
   "codemirror_mode": {
    "name": "ipython",
    "version": 3
   },
   "file_extension": ".py",
   "mimetype": "text/x-python",
   "name": "python",
   "nbconvert_exporter": "python",
   "pygments_lexer": "ipython3",
   "version": "3.8.0"
  }
 },
 "nbformat": 4,
 "nbformat_minor": 5
}
